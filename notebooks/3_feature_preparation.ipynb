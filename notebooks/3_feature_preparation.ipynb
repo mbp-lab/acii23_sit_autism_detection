{
 "cells": [
  {
   "cell_type": "markdown",
   "source": [
    "# Libs"
   ],
   "metadata": {
    "collapsed": false
   },
   "id": "2c3c3cb79a56cfc2"
  },
  {
   "cell_type": "code",
   "source": [
    "import pandas as pd\n",
    "\n",
    "from pathlib import Path\n",
    "\n",
    "from mbp.preprocessing.loader import Loader\n",
    "\n",
    "from scripts.datasets import sit_datasets\n",
    "from scripts.feature_preparation import OpenFaceFeaturePreparator, OpenFaceFeatureTransformer, AudioVisualFeatureCombiner"
   ],
   "metadata": {
    "collapsed": false,
    "ExecuteTime": {
     "end_time": "2024-06-11T10:58:40.806350Z",
     "start_time": "2024-06-11T10:58:38.308822Z"
    }
   },
   "id": "cd3941815dfecf6d",
   "outputs": [],
   "execution_count": 1
  },
  {
   "metadata": {
    "ExecuteTime": {
     "end_time": "2024-06-11T10:58:40.811628Z",
     "start_time": "2024-06-11T10:58:40.808344Z"
    }
   },
   "cell_type": "code",
   "source": [
    "VERSION = 'acii23'\n",
    "FEATURES_FILENAME = f'audiovisual_features_v_{VERSION}.csv'"
   ],
   "id": "7bd7b0964ead91c9",
   "outputs": [],
   "execution_count": 2
  },
  {
   "cell_type": "code",
   "source": [
    "for dataset in sit_datasets.values():\n",
    "    output_filepath = Path(dataset.processed / 'open_face_features_combined.csv')\n",
    "    openface_feature_combiner = OpenFaceFeaturePreparator(dataset, output_filepath)\n",
    "    openface_feature_combiner.run()\n",
    "\n",
    "    openface_features = pd.read_csv(output_filepath)\n",
    "    output_filepath.unlink()\n",
    "    openface_features_transformer = OpenFaceFeatureTransformer()\n",
    "    visual_features = openface_features_transformer.fit_transform(openface_features)\n",
    "\n",
    "    loader = Loader(dataset.processed / 'open_smile_features', ['*.csv'])\n",
    "    audio_feature_files = loader.load()\n",
    "\n",
    "    output_filepath = Path(dataset.processed / FEATURES_FILENAME)\n",
    "\n",
    "    feature_combiner = AudioVisualFeatureCombiner(visual_features, audio_feature_files, dataset.labels, output_filepath)\n",
    "    feature_combiner.run()"
   ],
   "metadata": {
    "collapsed": false
   },
   "id": "b6d4821c2ed3e98",
   "outputs": [],
   "execution_count": null
  },
  {
   "cell_type": "code",
   "source": [
    "from scripts.data_objects import SITCondition\n",
    "\n",
    "for dataset in list(sit_datasets.values()):\n",
    "    \n",
    "    general_path = dataset.processed / 'acii23_labels.csv'\n",
    "    features = pd.read_csv(general_path)\n",
    "    features = features.rename(columns={'label': SITCondition.ASD})\n",
    "    \n",
    "    features[['id', 'age', 'gender', 'SITCondition.ASD']].to_csv(general_path, index=False)"
   ],
   "metadata": {
    "collapsed": false
   },
   "id": "3560e837b70573dd",
   "outputs": [],
   "execution_count": null
  },
  {
   "cell_type": "code",
   "source": [],
   "metadata": {
    "collapsed": false
   },
   "id": "3d18428e6204a9e",
   "outputs": [],
   "execution_count": null
  }
 ],
 "metadata": {
  "kernelspec": {
   "display_name": "Python 3",
   "language": "python",
   "name": "python3"
  },
  "language_info": {
   "codemirror_mode": {
    "name": "ipython",
    "version": 2
   },
   "file_extension": ".py",
   "mimetype": "text/x-python",
   "name": "python",
   "nbconvert_exporter": "python",
   "pygments_lexer": "ipython2",
   "version": "2.7.6"
  }
 },
 "nbformat": 4,
 "nbformat_minor": 5
}
